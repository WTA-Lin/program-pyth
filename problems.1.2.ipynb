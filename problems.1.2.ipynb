{
 "cells": [
  {
   "cell_type": "code",
   "execution_count": null,
   "id": "cb96e375",
   "metadata": {},
   "outputs": [
    {
     "name": "stdout",
     "output_type": "stream",
     "text": [
      "Linda\n",
      "Linda\n",
      "Linda\n",
      "Linda\n",
      "Linda\n",
      "Linda\n",
      "Linda\n",
      "Linda\n",
      "Linda\n",
      "Linda\n",
      "Linda\n"
     ]
    }
   ],
   "source": [
    "## uloha c. 1\n",
    "\n",
    "name = \"Linda\"\n",
    "for x in range(11):\n",
    "    print(name)"
   ]
  },
  {
   "cell_type": "code",
   "execution_count": 17,
   "id": "9f752e77",
   "metadata": {},
   "outputs": [
    {
     "name": "stdout",
     "output_type": "stream",
     "text": [
      "3\n",
      "6\n",
      "9\n",
      "12\n",
      "15\n",
      "18\n",
      "21\n"
     ]
    }
   ],
   "source": [
    "## uloha c. 2\n",
    "\n",
    "my_range = range(2, 22)\n",
    "for x in my_range: \n",
    "    if x % 3 == 0:\n",
    "        print(x)\n",
    "\n",
    "\n",
    "\n"
   ]
  },
  {
   "cell_type": "code",
   "execution_count": null,
   "id": "60679f61",
   "metadata": {},
   "outputs": [
    {
     "name": "stdout",
     "output_type": "stream",
     "text": [
      "F\n",
      "55\n"
     ]
    }
   ],
   "source": [
    "## uloha c. 3\n",
    "\n",
    "score = 55\n",
    "if score >= 90:\n",
    "    print(\"A\")\n",
    "elif score >= 80:\n",
    "    print(\"B\")\n",
    "elif score >= 70:\n",
    "    print(\"C\")\n",
    "elif score >= 60:\n",
    "    print(\"D\")\n",
    "elif score < 60:\n",
    "    print(\"F\")\n",
    "print(score)\n"
   ]
  },
  {
   "cell_type": "code",
   "execution_count": null,
   "id": "5ba7712c",
   "metadata": {},
   "outputs": [],
   "source": [
    "## uloha c. 4\n",
    "\n",
    "my_list = [blue, green, red, black, white]"
   ]
  }
 ],
 "metadata": {
  "kernelspec": {
   "display_name": "Python 3",
   "language": "python",
   "name": "python3"
  },
  "language_info": {
   "codemirror_mode": {
    "name": "ipython",
    "version": 3
   },
   "file_extension": ".py",
   "mimetype": "text/x-python",
   "name": "python",
   "nbconvert_exporter": "python",
   "pygments_lexer": "ipython3",
   "version": "3.14.0"
  }
 },
 "nbformat": 4,
 "nbformat_minor": 5
}
